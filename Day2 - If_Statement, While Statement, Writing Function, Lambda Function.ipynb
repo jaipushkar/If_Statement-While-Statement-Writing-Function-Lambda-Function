{
 "cells": [
  {
   "cell_type": "markdown",
   "id": "8e9fb295-de2b-4b2d-9bb7-c39d0c6cfaf3",
   "metadata": {},
   "source": [
    "### Memory Location"
   ]
  },
  {
   "cell_type": "code",
   "execution_count": 2,
   "id": "694227d0-c093-4475-aa7b-5c8a90feff1d",
   "metadata": {},
   "outputs": [
    {
     "data": {
      "text/plain": [
       "140708610885000"
      ]
     },
     "execution_count": 2,
     "metadata": {},
     "output_type": "execute_result"
    }
   ],
   "source": [
    "# Memory Location\n",
    "x=20\n",
    "id(x)"
   ]
  },
  {
   "cell_type": "code",
   "execution_count": 3,
   "id": "2b4b42d1-7d35-4e34-a0cf-2d293cb28b0f",
   "metadata": {},
   "outputs": [
    {
     "data": {
      "text/plain": [
       "'0x7ff946c4c588'"
      ]
     },
     "execution_count": 3,
     "metadata": {},
     "output_type": "execute_result"
    }
   ],
   "source": [
    "# hexa decimal of Memory Location\n",
    "hex(id(x))"
   ]
  },
  {
   "cell_type": "code",
   "execution_count": 4,
   "id": "725967d6-d0bc-4461-a031-125f8d0e214a",
   "metadata": {},
   "outputs": [
    {
     "data": {
      "text/plain": [
       "140708610885000"
      ]
     },
     "execution_count": 4,
     "metadata": {},
     "output_type": "execute_result"
    }
   ],
   "source": [
    "# if the value is same it will keep in same merory location \n",
    "y=20\n",
    "id(y)"
   ]
  },
  {
   "cell_type": "markdown",
   "id": "ee536965-8915-4ba3-a5f0-39d7e58779de",
   "metadata": {},
   "source": [
    "### Identity Operator 'IS'\n"
   ]
  },
  {
   "cell_type": "code",
   "execution_count": 6,
   "id": "6fdb4d6b-4ab6-46c5-a873-2fcb646d6891",
   "metadata": {},
   "outputs": [
    {
     "data": {
      "text/plain": [
       "True"
      ]
     },
     "execution_count": 6,
     "metadata": {},
     "output_type": "execute_result"
    }
   ],
   "source": [
    "x is y"
   ]
  },
  {
   "cell_type": "code",
   "execution_count": 7,
   "id": "59bbd74f-ef4e-4428-8738-1ec19018dd65",
   "metadata": {},
   "outputs": [
    {
     "data": {
      "text/plain": [
       "True"
      ]
     },
     "execution_count": 7,
     "metadata": {},
     "output_type": "execute_result"
    }
   ],
   "source": [
    "x == y"
   ]
  },
  {
   "cell_type": "markdown",
   "id": "6242b8a3-45fe-44b9-8359-4a631431e310",
   "metadata": {},
   "source": [
    "### If Statements\n",
    "\n",
    "+ = -- Assignment\n",
    "+ == -- Comparision"
   ]
  },
  {
   "cell_type": "code",
   "execution_count": 19,
   "id": "d1f6991a-baf1-4c2e-b704-6cc3450d392c",
   "metadata": {},
   "outputs": [],
   "source": [
    "x=10\n",
    "y= 5"
   ]
  },
  {
   "cell_type": "markdown",
   "id": "50cf244f-9c9e-4077-92e6-1055f7a26990",
   "metadata": {},
   "source": [
    "##### If Statement"
   ]
  },
  {
   "cell_type": "code",
   "execution_count": 20,
   "id": "4f10337f-a502-4e3c-a644-6661ca80c736",
   "metadata": {},
   "outputs": [],
   "source": [
    "if x==y:\n",
    "    print(\"Equal\")"
   ]
  },
  {
   "cell_type": "code",
   "execution_count": 21,
   "id": "d6bf2d98-d2fb-4249-9b47-d3b048d7bc09",
   "metadata": {},
   "outputs": [
    {
     "name": "stdout",
     "output_type": "stream",
     "text": [
      "Equal\n",
      "Hi\n"
     ]
    }
   ],
   "source": [
    "x=10\n",
    "y=10\n",
    "\n",
    "if x==y:\n",
    "    print(\"Equal\")\n",
    "    print(\"Hi\")"
   ]
  },
  {
   "cell_type": "code",
   "execution_count": 22,
   "id": "3b7227ce-ab2d-43e6-8fdd-929ac5143d4d",
   "metadata": {},
   "outputs": [],
   "source": [
    "x=10\n",
    "y=1\n",
    "\n",
    "if x==y:\n",
    "    print(\"Equal\")\n",
    "    print(\"Hi\")"
   ]
  },
  {
   "cell_type": "code",
   "execution_count": 23,
   "id": "fe777da6-ec71-45be-aba2-da7a6e2740b5",
   "metadata": {},
   "outputs": [
    {
     "name": "stdout",
     "output_type": "stream",
     "text": [
      "Hi\n"
     ]
    }
   ],
   "source": [
    "x=10\n",
    "y=1\n",
    "\n",
    "if x==y:\n",
    "    print(\"Equal\")\n",
    "print(\"Hi\")"
   ]
  },
  {
   "cell_type": "code",
   "execution_count": 24,
   "id": "6c6bb3e6-ce4c-4ebf-92c6-b8ba8e84bdf8",
   "metadata": {},
   "outputs": [
    {
     "name": "stdout",
     "output_type": "stream",
     "text": [
      "Hello\n"
     ]
    }
   ],
   "source": [
    "x=10\n",
    "y=1\n",
    "\n",
    "if x==y:\n",
    "    print(\"Equal\")\n",
    "    print(\"Hi\")\n",
    "print(\"Hello\")"
   ]
  },
  {
   "cell_type": "code",
   "execution_count": 25,
   "id": "b5926c05-85e7-442b-a5d2-4a76afa1e946",
   "metadata": {},
   "outputs": [
    {
     "name": "stdout",
     "output_type": "stream",
     "text": [
      "Equal\n",
      "Hi\n",
      "Hello\n"
     ]
    }
   ],
   "source": [
    "x=10\n",
    "y=10\n",
    "\n",
    "if x==y:\n",
    "    print(\"Equal\")\n",
    "    print(\"Hi\")\n",
    "print(\"Hello\")"
   ]
  },
  {
   "cell_type": "markdown",
   "id": "951618ed-fe2c-498f-ac6a-a9df3c597dcd",
   "metadata": {},
   "source": [
    "##### If-Else Statement"
   ]
  },
  {
   "cell_type": "code",
   "execution_count": 28,
   "id": "d0662ed7-e705-4afb-ab06-3e49616bd8ac",
   "metadata": {},
   "outputs": [
    {
     "name": "stdout",
     "output_type": "stream",
     "text": [
      "Not Equal\n"
     ]
    }
   ],
   "source": [
    "x=10\n",
    "y=4\n",
    "\n",
    "if x==y:\n",
    "    print(\"Equal\")\n",
    "else:\n",
    "    print(\"Not Equal\")"
   ]
  },
  {
   "cell_type": "markdown",
   "id": "118297d7-5514-4aac-8eed-144afbc35923",
   "metadata": {},
   "source": [
    "##### if-Elif-Else Statement "
   ]
  },
  {
   "cell_type": "code",
   "execution_count": 29,
   "id": "d2115913-0f47-492d-befd-685e6780ba73",
   "metadata": {},
   "outputs": [
    {
     "name": "stdout",
     "output_type": "stream",
     "text": [
      "Negative\n"
     ]
    }
   ],
   "source": [
    "x = -9\n",
    "\n",
    "if x>0:\n",
    "    print(\"Positive\")\n",
    "elif x<0:\n",
    "    print(\"Negative\")\n",
    "else:\n",
    "    print(\"Zero\")"
   ]
  },
  {
   "cell_type": "markdown",
   "id": "65e5d68c-f7cb-49fb-94d3-6413b3d49476",
   "metadata": {},
   "source": [
    "##### Example (Week)"
   ]
  },
  {
   "cell_type": "code",
   "execution_count": 33,
   "id": "e325c36e-ad0c-440b-9380-23eb8bf73740",
   "metadata": {},
   "outputs": [
    {
     "name": "stdout",
     "output_type": "stream",
     "text": [
      "Friday\n"
     ]
    }
   ],
   "source": [
    "num=5\n",
    "\n",
    "if num == 1:\n",
    "    print (\"Monday\")\n",
    "elif num == 2:\n",
    "    print (\"Tuesday\")\n",
    "elif num == 3:\n",
    "    print (\"Wednesday\")\n",
    "elif num == 4:\n",
    "    print (\"Thursday\")\n",
    "elif num == 5:\n",
    "    print (\"Friday\")\n",
    "else:\n",
    "    print (\"Not a Working day\")"
   ]
  },
  {
   "cell_type": "markdown",
   "id": "714ace35-a0cf-4bed-b53a-89c984987a83",
   "metadata": {},
   "source": [
    "### Loops in Python"
   ]
  },
  {
   "cell_type": "markdown",
   "id": "07fc0fb8-2e3b-4e05-8a94-6cda183f2093",
   "metadata": {},
   "source": [
    "##### While Command"
   ]
  },
  {
   "cell_type": "code",
   "execution_count": 34,
   "id": "cd7ff1f0-fa25-4a0d-ac2f-d5d3aa36988e",
   "metadata": {},
   "outputs": [
    {
     "name": "stdout",
     "output_type": "stream",
     "text": [
      "Hello World!\n",
      "Hello World!\n",
      "Hello World!\n",
      "Hello World!\n",
      "Hello World!\n"
     ]
    }
   ],
   "source": [
    "cnt = 0 \n",
    "\n",
    "while cnt < 5:\n",
    "    print(\"Hello World!\")\n",
    "    cnt = cnt+1"
   ]
  },
  {
   "cell_type": "code",
   "execution_count": 35,
   "id": "fdee63c1-4255-4125-a140-d09daa3bdbf0",
   "metadata": {},
   "outputs": [
    {
     "name": "stdout",
     "output_type": "stream",
     "text": [
      "Hello World!  1\n",
      "Hello World!  2\n",
      "Hello World!  3\n",
      "Hello World!  4\n",
      "Hello World!  5\n"
     ]
    }
   ],
   "source": [
    "cnt = 0 \n",
    "\n",
    "while cnt < 5:\n",
    "    cnt = cnt+1\n",
    "    print(\"Hello World! \",cnt)\n",
    "    "
   ]
  },
  {
   "cell_type": "markdown",
   "id": "cf8bb7ba-64ea-40e0-b368-32a9fc3f1cf0",
   "metadata": {},
   "source": [
    "##### To come out of the loop we will use Break"
   ]
  },
  {
   "cell_type": "code",
   "execution_count": 38,
   "id": "626c157f-0765-498c-a7cb-75d4da5d9d85",
   "metadata": {},
   "outputs": [
    {
     "name": "stdout",
     "output_type": "stream",
     "text": [
      "Hello World!  1\n",
      "Hello World!  2\n",
      "Hello World!  3\n"
     ]
    }
   ],
   "source": [
    "cnt = 0 \n",
    "\n",
    "while cnt < 500:\n",
    "    cnt = cnt+1\n",
    "    print(\"Hello World! \",cnt)\n",
    "\n",
    "    if cnt==3:\n",
    "        break"
   ]
  },
  {
   "cell_type": "markdown",
   "id": "b7ae7b0f-1db2-4e56-9321-e9150f431e29",
   "metadata": {},
   "source": [
    "##### Continue take you the begining of the loop"
   ]
  },
  {
   "cell_type": "code",
   "execution_count": 43,
   "id": "9fc8e1c4-bbe1-4ebc-a786-4c87e93c1df6",
   "metadata": {},
   "outputs": [
    {
     "name": "stdout",
     "output_type": "stream",
     "text": [
      "Hello World!  1\n",
      "Hello World!  2\n",
      "Hello World!  4\n",
      "Hello World!  5\n"
     ]
    }
   ],
   "source": [
    "cnt = 0 \n",
    "\n",
    "while cnt < 5:\n",
    "    cnt = cnt+1\n",
    "    if cnt==3:\n",
    "        continue\n",
    "\n",
    "    print(\"Hello World! \",cnt)\n"
   ]
  },
  {
   "cell_type": "markdown",
   "id": "f8051095-a6a8-4370-a0e5-752700fa6e56",
   "metadata": {},
   "source": [
    "### Get input from User"
   ]
  },
  {
   "cell_type": "code",
   "execution_count": 45,
   "id": "e075ea10-45cd-428c-b6b8-909f519f3f98",
   "metadata": {},
   "outputs": [
    {
     "name": "stdin",
     "output_type": "stream",
     "text": [
      "Enter your name: Jaiswal\n"
     ]
    }
   ],
   "source": [
    "name= input(\"Enter your name:\")"
   ]
  },
  {
   "cell_type": "code",
   "execution_count": 46,
   "id": "8969315e-7b36-4e8e-87a0-0a99faf8ed8e",
   "metadata": {},
   "outputs": [
    {
     "name": "stdout",
     "output_type": "stream",
     "text": [
      "Hello Jaiswal, how are you?\n"
     ]
    }
   ],
   "source": [
    "print(f'Hello {name}, how are you?')"
   ]
  },
  {
   "cell_type": "code",
   "execution_count": 47,
   "id": "ed016f77-22bf-476a-9278-5c87e971ec28",
   "metadata": {},
   "outputs": [
    {
     "name": "stdin",
     "output_type": "stream",
     "text": [
      "Enter your age: 17\n"
     ]
    }
   ],
   "source": [
    "age= input(\"Enter your age:\")"
   ]
  },
  {
   "cell_type": "code",
   "execution_count": 48,
   "id": "56e25a4a-6b1a-4006-8eeb-9c6ba9d71056",
   "metadata": {},
   "outputs": [
    {
     "data": {
      "text/plain": [
       "str"
      ]
     },
     "execution_count": 48,
     "metadata": {},
     "output_type": "execute_result"
    }
   ],
   "source": [
    "## You will always get the value in string \n",
    "type(age)"
   ]
  },
  {
   "cell_type": "code",
   "execution_count": 49,
   "id": "6f80f623-7661-4a79-8186-31476efc8540",
   "metadata": {},
   "outputs": [
    {
     "data": {
      "text/plain": [
       "int"
      ]
     },
     "execution_count": 49,
     "metadata": {},
     "output_type": "execute_result"
    }
   ],
   "source": [
    "## To convert to int for perfoming operations\n",
    "\n",
    "myage=int(age)\n",
    "type(myage)"
   ]
  },
  {
   "cell_type": "code",
   "execution_count": 50,
   "id": "d16116ae-a7d6-4d7c-9bb2-4c3343fd4d99",
   "metadata": {},
   "outputs": [
    {
     "name": "stdin",
     "output_type": "stream",
     "text": [
      "Enter your age 17\n"
     ]
    }
   ],
   "source": [
    "## To get the direct interger value\n",
    "\n",
    "age=int(input('Enter your age'))"
   ]
  },
  {
   "cell_type": "code",
   "execution_count": 51,
   "id": "c1080de8-2a7d-4be4-b996-70472703fdba",
   "metadata": {},
   "outputs": [
    {
     "data": {
      "text/plain": [
       "int"
      ]
     },
     "execution_count": 51,
     "metadata": {},
     "output_type": "execute_result"
    }
   ],
   "source": [
    "type(age)"
   ]
  },
  {
   "cell_type": "markdown",
   "id": "896a1522-4f28-408d-a242-3f9b2990b1b5",
   "metadata": {},
   "source": [
    "### Functions "
   ]
  },
  {
   "cell_type": "code",
   "execution_count": 52,
   "id": "deb5bfd4-d0ea-4250-bdf7-c42cc412ce20",
   "metadata": {},
   "outputs": [],
   "source": [
    "def myfunc(x):\n",
    "    return x*x"
   ]
  },
  {
   "cell_type": "code",
   "execution_count": 53,
   "id": "caf7cf1d-61a3-422d-862f-d6cf3753d670",
   "metadata": {},
   "outputs": [
    {
     "data": {
      "text/plain": [
       "81"
      ]
     },
     "execution_count": 53,
     "metadata": {},
     "output_type": "execute_result"
    }
   ],
   "source": [
    "myfunc(9)"
   ]
  },
  {
   "cell_type": "code",
   "execution_count": 54,
   "id": "a1cecb6e-2c38-48a0-8d0c-ec3d855fe357",
   "metadata": {},
   "outputs": [
    {
     "data": {
      "text/plain": [
       "25"
      ]
     },
     "execution_count": 54,
     "metadata": {},
     "output_type": "execute_result"
    }
   ],
   "source": [
    "myfunc(5)"
   ]
  },
  {
   "cell_type": "markdown",
   "id": "51c917af-f4e3-4e27-88e3-9c28983b7623",
   "metadata": {},
   "source": [
    "##### Example -- Day of Week"
   ]
  },
  {
   "cell_type": "code",
   "execution_count": 56,
   "id": "01fd9f19-f0f2-4dca-a78a-b492c58ff88d",
   "metadata": {},
   "outputs": [],
   "source": [
    "def day_of_week(num):\n",
    "    if num ==1:\n",
    "        print(\"Monday\")\n",
    "    elif num==2:\n",
    "        print(\"Tuesday\")\n",
    "    elif num==3:\n",
    "        print(\"Wednesday\")\n",
    "    elif num==4:\n",
    "        print(\"Thursday\")\n",
    "    elif num==5:\n",
    "        print(\"Friday\")\n",
    "    else:\n",
    "        print(\"Not a working day\")\n",
    "        "
   ]
  },
  {
   "cell_type": "code",
   "execution_count": 59,
   "id": "3ace0b2f-f6bf-44fd-93cc-feb81948357f",
   "metadata": {},
   "outputs": [
    {
     "name": "stdout",
     "output_type": "stream",
     "text": [
      "Not a working day\n"
     ]
    }
   ],
   "source": [
    "day_of_week(6)"
   ]
  },
  {
   "cell_type": "markdown",
   "id": "0c633e23-0531-4857-acba-3e9864be22f1",
   "metadata": {},
   "source": [
    "### Docstring -- Used for documentation purpose"
   ]
  },
  {
   "cell_type": "code",
   "execution_count": 61,
   "id": "5a77f76d-2a5a-4420-9e8b-854e348491e9",
   "metadata": {},
   "outputs": [
    {
     "data": {
      "text/plain": [
       "'I love Python'"
      ]
     },
     "execution_count": 61,
     "metadata": {},
     "output_type": "execute_result"
    }
   ],
   "source": [
    "mystr='I love Python'\n",
    "mystr"
   ]
  },
  {
   "cell_type": "code",
   "execution_count": 62,
   "id": "8d13f771-cc98-47f1-8484-c1a9e340a383",
   "metadata": {},
   "outputs": [
    {
     "name": "stdout",
     "output_type": "stream",
     "text": [
      "I love \n",
      "Python\n"
     ]
    }
   ],
   "source": [
    "mystr='''I love \n",
    "Python'''\n",
    "print(mystr)"
   ]
  },
  {
   "cell_type": "code",
   "execution_count": 65,
   "id": "a45713ef-79e2-4607-b174-02ad404c45f6",
   "metadata": {},
   "outputs": [],
   "source": [
    "def day_of_week(num):\n",
    "    '''\n",
    "    Description: Used to find the day of the Week\n",
    "    Input: A number between 1 and 5 \n",
    "    Output: The name of the day corresponding to the input\n",
    "    '''\n",
    "    if num ==1:\n",
    "        print(\"Monday\")\n",
    "    elif num==2:\n",
    "        print(\"Tuesday\")\n",
    "    elif num==3:\n",
    "        print(\"Wednesday\")\n",
    "    elif num==4:\n",
    "        print(\"Thursday\")\n",
    "    elif num==5:\n",
    "        print(\"Friday\")\n",
    "    else:\n",
    "        print(\"Not a working day\")"
   ]
  },
  {
   "cell_type": "markdown",
   "id": "66544db7-d49d-433a-9e44-5632129c099c",
   "metadata": {},
   "source": [
    "### Help"
   ]
  },
  {
   "cell_type": "code",
   "execution_count": 64,
   "id": "0d970035-e70e-47f8-a729-428d1904bdea",
   "metadata": {},
   "outputs": [
    {
     "name": "stdout",
     "output_type": "stream",
     "text": [
      "Help on built-in function print in module builtins:\n",
      "\n",
      "print(*args, sep=' ', end='\\n', file=None, flush=False)\n",
      "    Prints the values to a stream, or to sys.stdout by default.\n",
      "    \n",
      "    sep\n",
      "      string inserted between values, default a space.\n",
      "    end\n",
      "      string appended after the last value, default a newline.\n",
      "    file\n",
      "      a file-like object (stream); defaults to the current sys.stdout.\n",
      "    flush\n",
      "      whether to forcibly flush the stream.\n",
      "\n"
     ]
    }
   ],
   "source": [
    "help(print)"
   ]
  },
  {
   "cell_type": "code",
   "execution_count": 66,
   "id": "0e05f69f-ba53-4502-910c-c19e3a868eeb",
   "metadata": {},
   "outputs": [
    {
     "name": "stdout",
     "output_type": "stream",
     "text": [
      "Help on function day_of_week in module __main__:\n",
      "\n",
      "day_of_week(num)\n",
      "    Description: Used to find the day of the Week\n",
      "    Input: A number between 1 and 5 \n",
      "    Output: The name of the day corresponding to the input\n",
      "\n"
     ]
    }
   ],
   "source": [
    "help(day_of_week)"
   ]
  },
  {
   "cell_type": "markdown",
   "id": "bbdd3af4-5dee-481b-bb4f-678238ab3682",
   "metadata": {},
   "source": [
    "### Lambda Function -- Anonymous (Nameless) Function"
   ]
  },
  {
   "cell_type": "code",
   "execution_count": 67,
   "id": "2ac19cc5-9c2d-47a4-b3d1-48c536a82796",
   "metadata": {},
   "outputs": [],
   "source": [
    "# Named Function\n",
    "\n",
    "def square(x):\n",
    "    return x**2"
   ]
  },
  {
   "cell_type": "code",
   "execution_count": 68,
   "id": "96dbc7b3-4aa7-4271-8cc1-0e68a9a6a887",
   "metadata": {},
   "outputs": [
    {
     "data": {
      "text/plain": [
       "16"
      ]
     },
     "execution_count": 68,
     "metadata": {},
     "output_type": "execute_result"
    }
   ],
   "source": [
    "square(4)"
   ]
  },
  {
   "cell_type": "code",
   "execution_count": 69,
   "id": "3ea0a27f-6b3a-4d9a-bc1a-676b694a80ec",
   "metadata": {},
   "outputs": [],
   "source": [
    "# Lambda Function \n",
    "\n",
    "sqr= lambda x: x**2"
   ]
  },
  {
   "cell_type": "code",
   "execution_count": 70,
   "id": "47b905dd-d7a5-4221-9e38-19f154b24b46",
   "metadata": {},
   "outputs": [
    {
     "data": {
      "text/plain": [
       "16"
      ]
     },
     "execution_count": 70,
     "metadata": {},
     "output_type": "execute_result"
    }
   ],
   "source": [
    "sqr(4)"
   ]
  },
  {
   "cell_type": "markdown",
   "id": "d3030820-c406-499c-a40a-f694c4ed8d28",
   "metadata": {},
   "source": [
    "##### Example -- Product of x and y "
   ]
  },
  {
   "cell_type": "code",
   "execution_count": 71,
   "id": "c2b0e124-e8b5-40e7-ac14-90d289055dae",
   "metadata": {},
   "outputs": [],
   "source": [
    "pro = lambda x,y : x*y"
   ]
  },
  {
   "cell_type": "code",
   "execution_count": 73,
   "id": "3d4a5b80-5004-4799-bac3-cc7a1765927f",
   "metadata": {},
   "outputs": [
    {
     "data": {
      "text/plain": [
       "6"
      ]
     },
     "execution_count": 73,
     "metadata": {},
     "output_type": "execute_result"
    }
   ],
   "source": [
    "pro(2,3)"
   ]
  }
 ],
 "metadata": {
  "kernelspec": {
   "display_name": "Python 3 (ipykernel)",
   "language": "python",
   "name": "python3"
  },
  "language_info": {
   "codemirror_mode": {
    "name": "ipython",
    "version": 3
   },
   "file_extension": ".py",
   "mimetype": "text/x-python",
   "name": "python",
   "nbconvert_exporter": "python",
   "pygments_lexer": "ipython3",
   "version": "3.11.7"
  }
 },
 "nbformat": 4,
 "nbformat_minor": 5
}
